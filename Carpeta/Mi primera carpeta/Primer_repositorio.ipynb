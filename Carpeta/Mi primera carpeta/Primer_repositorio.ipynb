{
  "nbformat": 4,
  "nbformat_minor": 0,
  "metadata": {
    "colab": {
      "provenance": [],
      "authorship_tag": "ABX9TyPfmnOxTv4aWhJxK+jOXzEB",
      "include_colab_link": true
    },
    "kernelspec": {
      "name": "python3",
      "display_name": "Python 3"
    },
    "language_info": {
      "name": "python"
    }
  },
  "cells": [
    {
      "cell_type": "markdown",
      "metadata": {
        "id": "view-in-github",
        "colab_type": "text"
      },
      "source": [
        "<a href=\"https://colab.research.google.com/github/jorgel2340/Programacion_en-_Python_Pruebagit/blob/main/Carpeta/Mi%20primera%20carpeta/Primer_repositorio.ipynb\" target=\"_parent\"><img src=\"https://colab.research.google.com/assets/colab-badge.svg\" alt=\"Open In Colab\"/></a>"
      ]
    },
    {
      "cell_type": "markdown",
      "source": [],
      "metadata": {
        "id": "ABuZX1WGud2h"
      }
    },
    {
      "cell_type": "markdown",
      "source": [
        "# este es mi primer cuaderno para repositorio\n"
      ],
      "metadata": {
        "id": "Wqr_Lw9guj4G"
      }
    },
    {
      "cell_type": "code",
      "execution_count": null,
      "metadata": {
        "id": "ZWgJDzG6uReZ"
      },
      "outputs": [],
      "source": [
        "# esto es una aprueba\n",
        "# para github\n",
        "\n",
        "#esta es una modificaión abriendo este repositorio llamando a Colab"
      ]
    }
  ]
}